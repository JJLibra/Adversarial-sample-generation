{
 "cells": [
  {
   "cell_type": "markdown",
   "metadata": {
    "pycharm": {
     "name": "#%% md\n"
    }
   },
   "source": [
    "# Demo - Performance Comparison (CIFAR10)"
   ]
  },
  {
   "cell_type": "markdown",
   "metadata": {
    "pycharm": {
     "name": "#%% md\n"
    }
   },
   "source": [
    "## 1. Load CIAFR10"
   ]
  },
  {
   "cell_type": "code",
   "execution_count": 1,
   "metadata": {
    "pycharm": {
     "name": "#%%\n"
    }
   },
   "outputs": [
    {
     "name": "stdout",
     "output_type": "stream",
     "text": [
      "Files already downloaded and verified\n"
     ]
    }
   ],
   "source": [
    "# https://github.com/RobustBench/robustbench\n",
    "from robustbench.data import load_cifar10\n",
    "from robustbench.utils import load_model, clean_accuracy\n",
    "from utils import l2_distance\n",
    "\n",
    "images, labels = load_cifar10(n_examples=50)\n",
    "device = \"cuda\""
   ]
  },
  {
   "cell_type": "markdown",
   "metadata": {
    "pycharm": {
     "name": "#%% md\n"
    }
   },
   "source": [
    "## 2. Standard Accuracy"
   ]
  },
  {
   "cell_type": "code",
   "execution_count": 2,
   "metadata": {
    "pycharm": {
     "name": "#%%\n"
    }
   },
   "outputs": [
    {
     "name": "stdout",
     "output_type": "stream",
     "text": [
      "Model: Standard\n",
      "- Standard Acc: 0.96\n",
      "Model: Wong2020Fast\n",
      "- Standard Acc: 0.92\n",
      "Model: Rice2020Overfitting\n",
      "- Standard Acc: 0.86\n"
     ]
    }
   ],
   "source": [
    "model_list = ['Standard', 'Wong2020Fast', 'Rice2020Overfitting']\n",
    "for model_name in model_list:\n",
    "    model = load_model(model_name, norm='Linf').to(device)\n",
    "    acc = clean_accuracy(model, images.to(device), labels.to(device))\n",
    "    print('Model: {}'.format(model_name))\n",
    "    print('- Standard Acc: {}'.format(acc))"
   ]
  },
  {
   "cell_type": "markdown",
   "metadata": {
    "pycharm": {
     "name": "#%% md\n"
    }
   },
   "source": [
    "## 3. Torchattacks, Foolbox and ART"
   ]
  },
  {
   "cell_type": "code",
   "execution_count": 3,
   "metadata": {
    "pycharm": {
     "name": "#%%\n"
    }
   },
   "outputs": [
    {
     "name": "stdout",
     "output_type": "stream",
     "text": [
      "foolbox 3.3.1\n",
      "art 1.7.0\n",
      "torchattacks 3.3.0\n"
     ]
    },
    {
     "name": "stderr",
     "output_type": "stream",
     "text": [
      "<ipython-input-3-363377dfba62>:18: DeprecationWarning: The module art.classifiers will be removed in ART 1.8.0 and replaced with art.estimators.classification\n",
      "  from art.classifiers import PyTorchClassifier\n"
     ]
    }
   ],
   "source": [
    "import datetime\n",
    "import numpy as np\n",
    "import warnings\n",
    "\n",
    "warnings.filterwarnings(action='ignore')\n",
    "\n",
    "import torch\n",
    "import torch.nn as nn\n",
    "import torch.optim as optim\n",
    "\n",
    "# https://github.com/bethgelab/foolbox\n",
    "import foolbox as fb\n",
    "print(\"foolbox %s\"%(fb.__version__))\n",
    "\n",
    "# https://github.com/IBM/adversarial-robustness-toolbox\n",
    "import art\n",
    "import art.attacks.evasion as evasion\n",
    "from art.classifiers import PyTorchClassifier\n",
    "print(\"art %s\"%(art.__version__))\n",
    "\n",
    "import sys\n",
    "sys.path.insert(0, '..')\n",
    "# https://github.com/Harry24k/adversarial-attacks-pytorch\n",
    "import torchattacks\n",
    "print(\"torchattacks %s\"%(torchattacks.__version__))"
   ]
  },
  {
   "cell_type": "markdown",
   "metadata": {
    "pycharm": {
     "name": "#%% md\n"
    }
   },
   "source": [
    "## 3.1. Linf"
   ]
  },
  {
   "cell_type": "markdown",
   "metadata": {
    "pycharm": {
     "name": "#%% md\n"
    }
   },
   "source": [
    "### FGSM"
   ]
  },
  {
   "cell_type": "code",
   "execution_count": 4,
   "metadata": {
    "pycharm": {
     "name": "#%%\n"
    }
   },
   "outputs": [
    {
     "name": "stderr",
     "output_type": "stream",
     "text": [
      "C:\\Users\\slcf\\anaconda3\\lib\\site-packages\\ipykernel\\ipkernel.py:287: DeprecationWarning: `should_run_async` will not call `transform_cell` automatically in the future. Please pass the result to `transformed_cell` argument and any exception that happen during thetransform in `preprocessing_exc_tuple` in IPython 7.17 and above.\n",
      "  and should_run_async(code)\n"
     ]
    },
    {
     "name": "stdout",
     "output_type": "stream",
     "text": [
      "Model: Standard\n",
      "- Torchattacks\n",
      "- Robust Acc: 0.34 (54 ms)\n",
      "- Foolbox\n",
      "- Robust Acc: 0.34 (11 ms)\n",
      "- ART\n",
      "- Robust Acc: 0.34 (251 ms)\n",
      "\n",
      "Model: Wong2020Fast\n",
      "- Torchattacks\n",
      "- Robust Acc: 0.48 (6 ms)\n",
      "- Foolbox\n",
      "- Robust Acc: 0.48 (7 ms)\n",
      "- ART\n",
      "- Robust Acc: 0.48 (62 ms)\n",
      "\n",
      "Model: Rice2020Overfitting\n",
      "- Torchattacks\n",
      "- Robust Acc: 0.62 (83 ms)\n",
      "- Foolbox\n",
      "- Robust Acc: 0.62 (29 ms)\n",
      "- ART\n",
      "- Robust Acc: 0.62 (775 ms)\n",
      "\n"
     ]
    }
   ],
   "source": [
    "for model_name in model_list:\n",
    "    print('Model: {}'.format(model_name))\n",
    "    model = load_model(model_name, norm='Linf').to(device)\n",
    "    \n",
    "    print(\"- Torchattacks\")\n",
    "    atk = torchattacks.FGSM(model, eps=8/255)\n",
    "    start = datetime.datetime.now()\n",
    "    adv_images = atk(images, labels)\n",
    "    end = datetime.datetime.now()\n",
    "    acc = clean_accuracy(model, adv_images, labels)\n",
    "    print('- Robust Acc: {} ({} ms)'.format(acc, int((end-start).total_seconds()*1000)))\n",
    "    \n",
    "    print(\"- Foolbox\")\n",
    "    fmodel = fb.PyTorchModel(model, bounds=(0, 1))\n",
    "    atk = fb.attacks.LinfFastGradientAttack(random_start=False)\n",
    "    start = datetime.datetime.now()\n",
    "    _, adv_images, _ = atk(fmodel, images.to('cuda:0'), labels.to('cuda:0'), epsilons=8/255)\n",
    "    end = datetime.datetime.now()\n",
    "    acc = clean_accuracy(model, adv_images, labels)\n",
    "    print('- Robust Acc: {} ({} ms)'.format(acc, int((end-start).total_seconds()*1000)))\n",
    "    \n",
    "    print(\"- ART\")\n",
    "    classifier = PyTorchClassifier(model=model, clip_values=(0, 1),\n",
    "                                   loss=nn.CrossEntropyLoss(),\n",
    "                                   optimizer=optim.Adam(model.parameters(), lr=0.01),\n",
    "                                   input_shape=(3, 32, 32), nb_classes=10)\n",
    "    atk = evasion.FastGradientMethod(norm=np.inf, batch_size=50,\n",
    "                                     estimator=classifier, eps=8/255)\n",
    "    start = datetime.datetime.now()\n",
    "    adv_images = torch.tensor(atk.generate(images, labels)).to(device)\n",
    "    end = datetime.datetime.now()\n",
    "    acc = clean_accuracy(model, adv_images, labels)\n",
    "    print('- Robust Acc: {} ({} ms)'.format(acc, int((end-start).total_seconds()*1000)))\n",
    "    \n",
    "    print()"
   ]
  },
  {
   "cell_type": "markdown",
   "metadata": {
    "pycharm": {
     "name": "#%% md\n"
    }
   },
   "source": [
    "### BIM"
   ]
  },
  {
   "cell_type": "code",
   "execution_count": 5,
   "metadata": {
    "pycharm": {
     "name": "#%%\n"
    }
   },
   "outputs": [
    {
     "name": "stdout",
     "output_type": "stream",
     "text": [
      "Model: Standard\n",
      "- Torchattacks\n",
      "- Robust Acc: 0.0 (199 ms)\n",
      "- Foolbox\n",
      "- Robust Acc: 0.0 (364 ms)\n",
      "- ART\n"
     ]
    },
    {
     "data": {
      "application/vnd.jupyter.widget-view+json": {
       "model_id": "",
       "version_major": 2,
       "version_minor": 0
      },
      "text/plain": [
       "PGD - Batches:   0%|          | 0/1 [00:00<?, ?it/s]"
      ]
     },
     "metadata": {},
     "output_type": "display_data"
    },
    {
     "name": "stdout",
     "output_type": "stream",
     "text": [
      "- Robust Acc: 0.0 (1419 ms)\n",
      "\n",
      "Model: Wong2020Fast\n",
      "- Torchattacks\n",
      "- Robust Acc: 0.44 (50 ms)\n",
      "- Foolbox\n",
      "- Robust Acc: 0.44 (52 ms)\n",
      "- ART\n"
     ]
    },
    {
     "data": {
      "application/vnd.jupyter.widget-view+json": {
       "model_id": "",
       "version_major": 2,
       "version_minor": 0
      },
      "text/plain": [
       "PGD - Batches:   0%|          | 0/1 [00:00<?, ?it/s]"
      ]
     },
     "metadata": {},
     "output_type": "display_data"
    },
    {
     "name": "stdout",
     "output_type": "stream",
     "text": [
      "- Robust Acc: 0.44 (440 ms)\n",
      "\n",
      "Model: Rice2020Overfitting\n",
      "- Torchattacks\n",
      "- Robust Acc: 0.58 (1464 ms)\n",
      "- Foolbox\n",
      "- Robust Acc: 0.58 (1923 ms)\n",
      "- ART\n"
     ]
    },
    {
     "data": {
      "application/vnd.jupyter.widget-view+json": {
       "model_id": "",
       "version_major": 2,
       "version_minor": 0
      },
      "text/plain": [
       "PGD - Batches:   0%|          | 0/1 [00:00<?, ?it/s]"
      ]
     },
     "metadata": {},
     "output_type": "display_data"
    },
    {
     "name": "stdout",
     "output_type": "stream",
     "text": [
      "- Robust Acc: 0.58 (4697 ms)\n",
      "\n"
     ]
    }
   ],
   "source": [
    "for model_name in model_list:\n",
    "    print('Model: {}'.format(model_name))\n",
    "    model = load_model(model_name, norm='Linf').to(device)\n",
    "    \n",
    "    print(\"- Torchattacks\")\n",
    "    atk = torchattacks.BIM(model, eps=8/255, alpha=2/255, steps=10)\n",
    "    start = datetime.datetime.now()\n",
    "    adv_images = atk(images, labels)\n",
    "    end = datetime.datetime.now()\n",
    "    acc = clean_accuracy(model, adv_images, labels)\n",
    "    print('- Robust Acc: {} ({} ms)'.format(acc, int((end-start).total_seconds()*1000)))\n",
    "    \n",
    "    print(\"- Foolbox\")\n",
    "    fmodel = fb.PyTorchModel(model, bounds=(0, 1))\n",
    "    atk = fb.attacks.LinfBasicIterativeAttack(abs_stepsize=2/255, steps=10, random_start=False)\n",
    "    start = datetime.datetime.now()\n",
    "    _, adv_images, _ = atk(fmodel, images.to('cuda:0'), labels.to('cuda:0'), epsilons=8/255)\n",
    "    end = datetime.datetime.now()\n",
    "    acc = clean_accuracy(model, adv_images, labels)\n",
    "    print('- Robust Acc: {} ({} ms)'.format(acc, int((end-start).total_seconds()*1000)))\n",
    "    \n",
    "    print(\"- ART\")\n",
    "    classifier = PyTorchClassifier(model=model, clip_values=(0, 1),\n",
    "                                   loss=nn.CrossEntropyLoss(),\n",
    "                                   optimizer=optim.Adam(model.parameters(), lr=0.01),\n",
    "                                   input_shape=(3, 32, 32), nb_classes=10)\n",
    "    atk = evasion.BasicIterativeMethod(batch_size=50,\n",
    "                                       estimator=classifier, eps=8/255,\n",
    "                                       eps_step=2/255, max_iter=10)\n",
    "    start = datetime.datetime.now()\n",
    "    adv_images = torch.tensor(atk.generate(images, labels)).to(device)\n",
    "    end = datetime.datetime.now()\n",
    "    acc = clean_accuracy(model, adv_images, labels)\n",
    "    print('- Robust Acc: {} ({} ms)'.format(acc, int((end-start).total_seconds()*1000)))\n",
    "    \n",
    "    print()"
   ]
  },
  {
   "cell_type": "markdown",
   "metadata": {
    "pycharm": {
     "name": "#%% md\n"
    }
   },
   "source": [
    "### PGD"
   ]
  },
  {
   "cell_type": "code",
   "execution_count": 6,
   "metadata": {
    "pycharm": {
     "name": "#%%\n"
    }
   },
   "outputs": [
    {
     "name": "stdout",
     "output_type": "stream",
     "text": [
      "Model: Standard\n",
      "- Torchattacks\n",
      "- Robust Acc: 0.0 (179 ms)\n",
      "- Foolbox\n",
      "- Robust Acc: 0.0 (351 ms)\n",
      "- ART\n"
     ]
    },
    {
     "data": {
      "application/vnd.jupyter.widget-view+json": {
       "model_id": "",
       "version_major": 2,
       "version_minor": 0
      },
      "text/plain": [
       "PGD - Batches:   0%|          | 0/1 [00:00<?, ?it/s]"
      ]
     },
     "metadata": {},
     "output_type": "display_data"
    },
    {
     "name": "stdout",
     "output_type": "stream",
     "text": [
      "- Robust Acc: 0.0 (1370 ms)\n",
      "\n",
      "Model: Wong2020Fast\n",
      "- Torchattacks\n",
      "- Robust Acc: 0.44 (50 ms)\n",
      "- Foolbox\n",
      "- Robust Acc: 0.44 (51 ms)\n",
      "- ART\n"
     ]
    },
    {
     "data": {
      "application/vnd.jupyter.widget-view+json": {
       "model_id": "",
       "version_major": 2,
       "version_minor": 0
      },
      "text/plain": [
       "PGD - Batches:   0%|          | 0/1 [00:00<?, ?it/s]"
      ]
     },
     "metadata": {},
     "output_type": "display_data"
    },
    {
     "name": "stdout",
     "output_type": "stream",
     "text": [
      "- Robust Acc: 0.44 (421 ms)\n",
      "\n",
      "Model: Rice2020Overfitting\n",
      "- Torchattacks\n",
      "- Robust Acc: 0.58 (1300 ms)\n",
      "- Foolbox\n",
      "- Robust Acc: 0.58 (1849 ms)\n",
      "- ART\n"
     ]
    },
    {
     "data": {
      "application/vnd.jupyter.widget-view+json": {
       "model_id": "",
       "version_major": 2,
       "version_minor": 0
      },
      "text/plain": [
       "PGD - Batches:   0%|          | 0/1 [00:00<?, ?it/s]"
      ]
     },
     "metadata": {},
     "output_type": "display_data"
    },
    {
     "name": "stdout",
     "output_type": "stream",
     "text": [
      "- Robust Acc: 0.58 (4675 ms)\n",
      "\n"
     ]
    }
   ],
   "source": [
    "for model_name in model_list:\n",
    "    print('Model: {}'.format(model_name))\n",
    "    model = load_model(model_name, norm='Linf').to(device)\n",
    "    \n",
    "    print(\"- Torchattacks\")\n",
    "    atk = torchattacks.PGD(model, eps=8/255, alpha=2/255, steps=10, random_start=False)\n",
    "    start = datetime.datetime.now()\n",
    "    adv_images = atk(images, labels)\n",
    "    end = datetime.datetime.now()\n",
    "    acc = clean_accuracy(model, adv_images, labels)\n",
    "    print('- Robust Acc: {} ({} ms)'.format(acc, int((end-start).total_seconds()*1000)))\n",
    "    \n",
    "    print(\"- Foolbox\")\n",
    "    fmodel = fb.PyTorchModel(model, bounds=(0, 1))\n",
    "    atk = fb.attacks.LinfPGD(abs_stepsize=2/255, steps=10, random_start=False)\n",
    "    start = datetime.datetime.now()\n",
    "    _, adv_images, _ = atk(fmodel, images.to('cuda:0'), labels.to('cuda:0'), epsilons=8/255)\n",
    "    end = datetime.datetime.now()\n",
    "    acc = clean_accuracy(model, adv_images, labels)\n",
    "    print('- Robust Acc: {} ({} ms)'.format(acc, int((end-start).total_seconds()*1000)))\n",
    "    \n",
    "    print(\"- ART\")\n",
    "    classifier = PyTorchClassifier(model=model, clip_values=(0, 1),\n",
    "                                   loss=nn.CrossEntropyLoss(),\n",
    "                                   optimizer=optim.Adam(model.parameters(), lr=0.01),\n",
    "                                   input_shape=(3, 32, 32), nb_classes=10)\n",
    "    atk = evasion.ProjectedGradientDescent(batch_size=50, num_random_init=0,\n",
    "                                           estimator=classifier, eps=8/255,\n",
    "                                           eps_step=2/255, max_iter=10)\n",
    "    start = datetime.datetime.now()\n",
    "    adv_images = torch.tensor(atk.generate(images, labels)).to(device)\n",
    "    end = datetime.datetime.now()\n",
    "    acc = clean_accuracy(model, adv_images, labels)\n",
    "    print('- Robust Acc: {} ({} ms)'.format(acc, int((end-start).total_seconds()*1000)))\n",
    "    \n",
    "    print()"
   ]
  },
  {
   "cell_type": "markdown",
   "metadata": {
    "pycharm": {
     "name": "#%% md\n"
    }
   },
   "source": [
    "## 3.2. L2"
   ]
  },
  {
   "cell_type": "markdown",
   "metadata": {
    "pycharm": {
     "name": "#%% md\n"
    }
   },
   "source": [
    "## DeepFool"
   ]
  },
  {
   "cell_type": "code",
   "execution_count": 7,
   "metadata": {
    "pycharm": {
     "name": "#%%\n"
    }
   },
   "outputs": [
    {
     "name": "stdout",
     "output_type": "stream",
     "text": [
      "Model: Standard\n",
      "- Torchattacks\n",
      "- Robust Acc: 0.02 / L2: 0.25 (17168 ms)\n",
      "- Foolbox\n",
      "- Robust Acc: 0.02 / L2: 0.23 (6798 ms)\n",
      "- ART\n"
     ]
    },
    {
     "data": {
      "application/vnd.jupyter.widget-view+json": {
       "model_id": "f00b4b6b1e9f47b3a7ba7cf4a5c48810",
       "version_major": 2,
       "version_minor": 0
      },
      "text/plain": [
       "DeepFool:   0%|          | 0/1 [00:00<?, ?it/s]"
      ]
     },
     "metadata": {},
     "output_type": "display_data"
    },
    {
     "name": "stdout",
     "output_type": "stream",
     "text": [
      "- Robust Acc: 0.2 / L2: 0.26 (46556 ms)\n",
      "\n",
      "Model: Wong2020Fast\n",
      "- Torchattacks\n",
      "- Robust Acc: 0.0 / L2: 1.0 (3454 ms)\n",
      "- Foolbox\n",
      "- Robust Acc: 0.4 / L2: 0.41 (1769 ms)\n",
      "- ART\n"
     ]
    },
    {
     "data": {
      "application/vnd.jupyter.widget-view+json": {
       "model_id": "4997928832aa4c5fa6e28c1904ea8732",
       "version_major": 2,
       "version_minor": 0
      },
      "text/plain": [
       "DeepFool:   0%|          | 0/1 [00:00<?, ?it/s]"
      ]
     },
     "metadata": {},
     "output_type": "display_data"
    },
    {
     "name": "stdout",
     "output_type": "stream",
     "text": [
      "- Robust Acc: 0.06 / L2: 1.1 (16997 ms)\n",
      "\n",
      "Model: Rice2020Overfitting\n",
      "- Torchattacks\n",
      "- Robust Acc: 0.0 / L2: 1.2 (33481 ms)\n",
      "- Foolbox\n",
      "- Robust Acc: 0.36 / L2: 0.47 (20088 ms)\n",
      "- ART\n"
     ]
    },
    {
     "data": {
      "application/vnd.jupyter.widget-view+json": {
       "model_id": "b0e7c42faab14639ad089cbe1e6faa80",
       "version_major": 2,
       "version_minor": 0
      },
      "text/plain": [
       "DeepFool:   0%|          | 0/1 [00:00<?, ?it/s]"
      ]
     },
     "metadata": {},
     "output_type": "display_data"
    },
    {
     "name": "stdout",
     "output_type": "stream",
     "text": [
      "- Robust Acc: 0.1 / L2: 1.3 (164123 ms)\n",
      "\n"
     ]
    }
   ],
   "source": [
    "for model_name in model_list:\n",
    "    print('Model: {}'.format(model_name))\n",
    "    model = load_model(model_name, norm='Linf').to(device)\n",
    "    \n",
    "    print(\"- Torchattacks\")\n",
    "    atk = torchattacks.DeepFool(model, steps=50, overshoot=0.02)\n",
    "    start = datetime.datetime.now()\n",
    "    adv_images = atk(images, labels)\n",
    "    end = datetime.datetime.now()\n",
    "    acc = clean_accuracy(model, adv_images, labels)\n",
    "    l2 = l2_distance(model, images, adv_images, labels, device=device)\n",
    "    print('- Robust Acc: {} / L2: {:1.2} ({} ms)'.format(acc, l2,\n",
    "                                                         int((end-start).total_seconds()*1000)))\n",
    "    \n",
    "    print(\"- Foolbox\")\n",
    "    fmodel = fb.PyTorchModel(model, bounds=(0, 1))\n",
    "    atk = fb.attacks.L2DeepFoolAttack(steps=50, candidates=10, overshoot=0.02)\n",
    "    start = datetime.datetime.now()\n",
    "    _, adv_images, _ = atk(fmodel, images.to('cuda'), labels.to('cuda'), epsilons=1)\n",
    "    end = datetime.datetime.now()\n",
    "    acc = clean_accuracy(model, adv_images, labels)\n",
    "    l2 = l2_distance(model, images, adv_images, labels, device=device)\n",
    "    print('- Robust Acc: {} / L2: {:1.2} ({} ms)'.format(acc, l2,\n",
    "                                                         int((end-start).total_seconds()*1000)))\n",
    "\n",
    "    print(\"- ART\")\n",
    "    classifier = PyTorchClassifier(model=model, clip_values=(0, 1),\n",
    "                                   loss=nn.CrossEntropyLoss(),\n",
    "                                   optimizer=optim.Adam(model.parameters(), lr=0.01),\n",
    "                                   input_shape=(3, 32, 32), nb_classes=10)\n",
    "    atk = evasion.DeepFool(classifier=classifier, max_iter=50,\n",
    "                           batch_size=50)\n",
    "\n",
    "    start = datetime.datetime.now()\n",
    "    adv_images = torch.tensor(atk.generate(images, labels)).to(device)\n",
    "    end = datetime.datetime.now()\n",
    "    acc = clean_accuracy(model, adv_images, labels)\n",
    "    l2 = l2_distance(model, images, adv_images, labels, device=device)\n",
    "    print('- Robust Acc: {} / L2: {:1.2} ({} ms)'.format(acc, l2,\n",
    "                                                         int((end-start).total_seconds()*1000)))\n",
    "    \n",
    "    print()"
   ]
  },
  {
   "cell_type": "markdown",
   "metadata": {
    "pycharm": {
     "name": "#%% md\n"
    }
   },
   "source": [
    "### CW"
   ]
  },
  {
   "cell_type": "code",
   "execution_count": 8,
   "metadata": {
    "scrolled": false,
    "pycharm": {
     "name": "#%%\n"
    }
   },
   "outputs": [
    {
     "name": "stdout",
     "output_type": "stream",
     "text": [
      "Model: Standard\n",
      "- Torchattacks\n",
      "- Robust Acc: 0.0 / L2: 0.4 (2594 ms)\n",
      "- Foolbox\n",
      "- Robust Acc: 0.0 / L2: 0.4 (2595 ms)\n",
      "- ART\n"
     ]
    },
    {
     "data": {
      "application/vnd.jupyter.widget-view+json": {
       "model_id": "dec6c6920df04506a4be143578ba801e",
       "version_major": 2,
       "version_minor": 0
      },
      "text/plain": [
       "C&W L_2:   0%|          | 0/1 [00:00<?, ?it/s]"
      ]
     },
     "metadata": {},
     "output_type": "display_data"
    },
    {
     "name": "stdout",
     "output_type": "stream",
     "text": [
      "- Robust Acc: 0.0 / L2: 0.59 (199602 ms)\n",
      "\n",
      "Model: Wong2020Fast\n",
      "- Torchattacks\n",
      "- Robust Acc: 0.14 / L2: 0.61 (3770 ms)\n",
      "- Foolbox\n",
      "- Robust Acc: 0.32 / L2: 0.41 (3908 ms)\n",
      "- ART\n"
     ]
    },
    {
     "data": {
      "application/vnd.jupyter.widget-view+json": {
       "model_id": "852936350d284e54b0da283e170bbd33",
       "version_major": 2,
       "version_minor": 0
      },
      "text/plain": [
       "C&W L_2:   0%|          | 0/1 [00:00<?, ?it/s]"
      ]
     },
     "metadata": {},
     "output_type": "display_data"
    },
    {
     "name": "stdout",
     "output_type": "stream",
     "text": [
      "- Robust Acc: 0.24 / L2: 0.71 (64417 ms)\n",
      "\n",
      "Model: Rice2020Overfitting\n",
      "- Torchattacks\n",
      "- Robust Acc: 0.22 / L2: 0.56 (43068 ms)\n",
      "- Foolbox\n",
      "- Robust Acc: 0.34 / L2: 0.43 (43442 ms)\n",
      "- ART\n"
     ]
    },
    {
     "data": {
      "application/vnd.jupyter.widget-view+json": {
       "model_id": "ea6006ce4c1841ed970f23f3ecb9a889",
       "version_major": 2,
       "version_minor": 0
      },
      "text/plain": [
       "C&W L_2:   0%|          | 0/1 [00:00<?, ?it/s]"
      ]
     },
     "metadata": {},
     "output_type": "display_data"
    },
    {
     "name": "stdout",
     "output_type": "stream",
     "text": [
      "- Robust Acc: 0.24 / L2: 0.65 (687031 ms)\n",
      "\n"
     ]
    }
   ],
   "source": [
    "for model_name in model_list:\n",
    "    print('Model: {}'.format(model_name))\n",
    "    model = load_model(model_name, norm='Linf').to(device)\n",
    "    \n",
    "    print(\"- Torchattacks\")\n",
    "    atk = torchattacks.CW(model, c=1, kappa=0, steps=100, lr=0.01)\n",
    "    start = datetime.datetime.now()\n",
    "    adv_images = atk(images, labels)\n",
    "    end = datetime.datetime.now()\n",
    "    acc = clean_accuracy(model, adv_images, labels)\n",
    "    l2 = l2_distance(model, images, adv_images, labels, device=device)\n",
    "    print('- Robust Acc: {} / L2: {:1.2} ({} ms)'.format(acc, l2,\n",
    "                                                         int((end-start).total_seconds()*1000)))\n",
    "    \n",
    "    print(\"- Foolbox\")\n",
    "    fmodel = fb.PyTorchModel(model, bounds=(0, 1))\n",
    "    atk = fb.attacks.L2CarliniWagnerAttack(binary_search_steps=1, initial_const=1,\n",
    "                                           confidence=0, steps=100, stepsize=0.01)\n",
    "    start = datetime.datetime.now()\n",
    "    _, adv_images, _ = atk(fmodel, images.to('cuda'), labels.to('cuda'), epsilons=1)\n",
    "    end = datetime.datetime.now()\n",
    "    acc = clean_accuracy(model, adv_images, labels)\n",
    "    l2 = l2_distance(model, images, adv_images, labels, device=device)\n",
    "    print('- Robust Acc: {} / L2: {:1.2} ({} ms)'.format(acc, l2,\n",
    "                                                         int((end-start).total_seconds()*1000)))\n",
    "\n",
    "    print(\"- ART\")\n",
    "    classifier = PyTorchClassifier(model=model, clip_values=(0, 1),\n",
    "                                   loss=nn.CrossEntropyLoss(),\n",
    "                                   optimizer=optim.Adam(model.parameters(), lr=0.01),\n",
    "                                   input_shape=(3, 32, 32), nb_classes=10)\n",
    "    atk = evasion.CarliniL2Method(batch_size=50, classifier=classifier, \n",
    "                                  binary_search_steps=1, initial_const=1,\n",
    "                                  confidence=0, max_iter=100,\n",
    "                                  learning_rate=0.01)\n",
    "    start = datetime.datetime.now()\n",
    "    adv_images = torch.tensor(atk.generate(images, labels)).to(device)\n",
    "    end = datetime.datetime.now()\n",
    "    acc = clean_accuracy(model, adv_images, labels)\n",
    "    l2 = l2_distance(model, images, adv_images, labels, device=device)\n",
    "    print('- Robust Acc: {} / L2: {:1.2} ({} ms)'.format(acc, l2,\n",
    "                                                         int((end-start).total_seconds()*1000)))\n",
    "    \n",
    "    print()"
   ]
  },
  {
   "cell_type": "markdown",
   "metadata": {
    "pycharm": {
     "name": "#%% md\n"
    }
   },
   "source": [
    "### PGD L2"
   ]
  },
  {
   "cell_type": "code",
   "execution_count": 9,
   "metadata": {
    "pycharm": {
     "name": "#%%\n"
    }
   },
   "outputs": [
    {
     "name": "stdout",
     "output_type": "stream",
     "text": [
      "Model: Standard\n",
      "- Torchattacks\n",
      "- Robust Acc: 0.06 / L2: 0.41 (178 ms)\n",
      "- Foolbox\n",
      "- Robust Acc: 0.06 / L2: 0.41 (396 ms)\n",
      "- ART\n"
     ]
    },
    {
     "data": {
      "application/vnd.jupyter.widget-view+json": {
       "model_id": "",
       "version_major": 2,
       "version_minor": 0
      },
      "text/plain": [
       "PGD - Batches:   0%|          | 0/1 [00:00<?, ?it/s]"
      ]
     },
     "metadata": {},
     "output_type": "display_data"
    },
    {
     "name": "stdout",
     "output_type": "stream",
     "text": [
      "- Robust Acc: 0.06 / L2: 0.4 (1350 ms)\n",
      "\n",
      "Model: Wong2020Fast\n",
      "- Torchattacks\n",
      "- Robust Acc: 0.68 / L2: 0.5 (56 ms)\n",
      "- Foolbox\n",
      "- Robust Acc: 0.68 / L2: 0.5 (53 ms)\n",
      "- ART\n"
     ]
    },
    {
     "data": {
      "application/vnd.jupyter.widget-view+json": {
       "model_id": "",
       "version_major": 2,
       "version_minor": 0
      },
      "text/plain": [
       "PGD - Batches:   0%|          | 0/1 [00:00<?, ?it/s]"
      ]
     },
     "metadata": {},
     "output_type": "display_data"
    },
    {
     "name": "stdout",
     "output_type": "stream",
     "text": [
      "- Robust Acc: 0.68 / L2: 0.5 (424 ms)\n",
      "\n",
      "Model: Rice2020Overfitting\n",
      "- Torchattacks\n",
      "- Robust Acc: 0.7 / L2: 0.5 (1327 ms)\n",
      "- Foolbox\n",
      "- Robust Acc: 0.7 / L2: 0.5 (1932 ms)\n",
      "- ART\n"
     ]
    },
    {
     "data": {
      "application/vnd.jupyter.widget-view+json": {
       "model_id": "",
       "version_major": 2,
       "version_minor": 0
      },
      "text/plain": [
       "PGD - Batches:   0%|          | 0/1 [00:00<?, ?it/s]"
      ]
     },
     "metadata": {},
     "output_type": "display_data"
    },
    {
     "name": "stdout",
     "output_type": "stream",
     "text": [
      "- Robust Acc: 0.7 / L2: 0.5 (4698 ms)\n",
      "\n"
     ]
    }
   ],
   "source": [
    "for model_name in model_list:\n",
    "    print('Model: {}'.format(model_name))\n",
    "    model = load_model(model_name, norm='Linf').cuda()\n",
    "    \n",
    "    print(\"- Torchattacks\")\n",
    "    atk = torchattacks.PGDL2(model, eps=128/255, alpha=15/255, steps=10, random_start=False)\n",
    "    start = datetime.datetime.now()\n",
    "    adv_images = atk(images, labels)\n",
    "    end = datetime.datetime.now()\n",
    "    acc = clean_accuracy(model, adv_images, labels)\n",
    "    l2 = l2_distance(model, images, adv_images, labels, device=device)\n",
    "    print('- Robust Acc: {} / L2: {:1.2} ({} ms)'.format(acc, l2,\n",
    "                                                         int((end-start).total_seconds()*1000)))\n",
    "    \n",
    "    print(\"- Foolbox\")\n",
    "    fmodel = fb.PyTorchModel(model, bounds=(0, 1))\n",
    "    atk = fb.attacks.L2PGD(abs_stepsize=15/255, steps=10, random_start=False)\n",
    "    start = datetime.datetime.now()\n",
    "    _, adv_images, _ = atk(fmodel, images.to('cuda:0'), labels.to('cuda:0'), epsilons=128/255)\n",
    "    end = datetime.datetime.now()\n",
    "    acc = clean_accuracy(model, adv_images, labels)\n",
    "    l2 = l2_distance(model, images, adv_images, labels, device=device)\n",
    "    print('- Robust Acc: {} / L2: {:1.2} ({} ms)'.format(acc, l2,\n",
    "                                                         int((end-start).total_seconds()*1000)))\n",
    "    \n",
    "    print(\"- ART\")\n",
    "    classifier = PyTorchClassifier(model=model, clip_values=(0, 1),\n",
    "                                   loss=nn.CrossEntropyLoss(),\n",
    "                                   optimizer=optim.Adam(model.parameters(), lr=0.01),\n",
    "                                   input_shape=(3, 32, 32), nb_classes=10)\n",
    "    atk = evasion.ProjectedGradientDescent(batch_size=50, num_random_init=0,\n",
    "                                           norm = 2, estimator=classifier, eps=128/255,\n",
    "                                           eps_step=15/255, max_iter=10)\n",
    "    start = datetime.datetime.now()\n",
    "    adv_images = torch.tensor(atk.generate(images, labels)).to(device)\n",
    "    end = datetime.datetime.now()\n",
    "    acc = clean_accuracy(model, adv_images, labels)\n",
    "    l2 = l2_distance(model, images, adv_images, labels, device=device)\n",
    "    print('- Robust Acc: {} / L2: {:1.2} ({} ms)'.format(acc, l2,\n",
    "                                                         int((end-start).total_seconds()*1000)))\n",
    "    \n",
    "    print()"
   ]
  }
 ],
 "metadata": {
  "kernelspec": {
   "display_name": "Python 3",
   "language": "python",
   "name": "python3"
  },
  "language_info": {
   "codemirror_mode": {
    "name": "ipython",
    "version": 3
   },
   "file_extension": ".py",
   "mimetype": "text/x-python",
   "name": "python",
   "nbconvert_exporter": "python",
   "pygments_lexer": "ipython3",
   "version": "3.8.8"
  }
 },
 "nbformat": 4,
 "nbformat_minor": 2
}